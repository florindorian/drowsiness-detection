{
 "cells": [
  {
   "cell_type": "code",
   "execution_count": 2,
   "metadata": {},
   "outputs": [
    {
     "name": "stdout",
     "output_type": "stream",
     "text": [
      "pip 22.0.2 from /home/rian/Programming/Python_progs/Cursos/F9_CV/C6-AnaliseFacial/fcv6-expressoes/.venv/lib/python3.10/site-packages/pip (python 3.10)\n",
      "Note: you may need to restart the kernel to use updated packages.\n"
     ]
    }
   ],
   "source": [
    "%pip --version"
   ]
  },
  {
   "cell_type": "code",
   "execution_count": null,
   "metadata": {},
   "outputs": [],
   "source": [
    "# %pip install opencv-python==4.6.0.66 mediapipe==0.8.11 numpy==1.22.3 # DO CURSO     \n",
    "# %pip install -U opencv-python mediapipe numpy (O QUE USEI)\n",
    "\n",
    "# VERSÕES USADAS\n",
    "# opencv-contrib-python==4.11.0.86\n",
    "# opencv-python==4.11.0.86\n",
    "# numpy==1.26.4\n",
    "# mediapipe==0.10.21"
   ]
  },
  {
   "cell_type": "code",
   "execution_count": 11,
   "metadata": {},
   "outputs": [],
   "source": [
    "import cv2\n",
    "import mediapipe as mp"
   ]
  },
  {
   "cell_type": "code",
   "execution_count": 12,
   "metadata": {},
   "outputs": [],
   "source": [
    "mp_drawing = mp.solutions.drawing_utils\n",
    "mp_face_mesh = mp.solutions.face_mesh"
   ]
  },
  {
   "cell_type": "code",
   "execution_count": 21,
   "metadata": {},
   "outputs": [
    {
     "name": "stderr",
     "output_type": "stream",
     "text": [
      "I0000 00:00:1743268642.297531   30440 gl_context_egl.cc:85] Successfully initialized EGL. Major : 1 Minor: 5\n",
      "I0000 00:00:1743268642.299011  112802 gl_context.cc:369] GL version: 3.2 (OpenGL ES 3.2 Mesa 23.2.1-1ubuntu3.1~22.04.3), renderer: Mesa Intel(R) Xe Graphics (TGL GT2)\n",
      "W0000 00:00:1743268642.301647  112795 inference_feedback_manager.cc:114] Feedback manager requires a model with a single signature inference. Disabling support for feedback tensors.\n",
      "W0000 00:00:1743268642.311882  112799 inference_feedback_manager.cc:114] Feedback manager requires a model with a single signature inference. Disabling support for feedback tensors.\n"
     ]
    }
   ],
   "source": [
    "cap = cv2.VideoCapture(0)\n",
    "cap.set(cv2.CAP_PROP_FRAME_WIDTH, 1280)\n",
    "cap.set(cv2.CAP_PROP_FRAME_HEIGHT, 720)\n",
    "\n",
    "\n",
    "# (nível minímo de confiança para detectar uma face, mínimo de confiança para detectar os pontos da face)\n",
    "with mp_face_mesh.FaceMesh(min_detection_confidence=0.5, min_tracking_confidence=0.5) as facemesh:\n",
    "    while cap.isOpened():\n",
    "        tecla = cv2.waitKey(1)\n",
    "        if tecla == 27: # Esc\n",
    "            break\n",
    "\n",
    "\n",
    "        sucesso, frame = cap.read()\n",
    "        if not sucesso:\n",
    "            print('Ignorando o frame vazio da camera')\n",
    "            continue\n",
    "\n",
    "        # OpenCV por padrão entrega dados em BGR\n",
    "        frame = cv2.cvtColor(frame, cv2.COLOR_BGR2RGB)\n",
    "        saida_facemesh = facemesh.process(frame)\n",
    "        frame = cv2.cvtColor(frame, cv2.COLOR_RGB2BGR)\n",
    "\n",
    "        try:\n",
    "            # Itera sobre cada ponto da face coletado\n",
    "            for face_landmarks in saida_facemesh.multi_face_landmarks:\n",
    "                # Frame (fundo), pontos da face, drawing options\n",
    "                mp_drawing.draw_landmarks(\n",
    "                    frame, \n",
    "                    face_landmarks, \n",
    "                    mp_face_mesh.FACEMESH_CONTOURS,\n",
    "                    # Blue, Green, Red (tonalidade tendendo pro Azul)\n",
    "                    landmark_drawing_spec=mp_drawing.DrawingSpec(\n",
    "                        color=(255,102,0),\n",
    "                        thickness=1, \n",
    "                        circle_radius=1\n",
    "                    ), \n",
    "                    # (tonalidade tendendo para o verde), espessura dos traços\n",
    "                    connection_drawing_spec=mp_drawing.DrawingSpec(\n",
    "                        color=(102,204,0), \n",
    "                        thickness=1,\n",
    "                        circle_radius=1\n",
    "                    )\n",
    "                )\n",
    "                \n",
    "        except Exception as e:\n",
    "            # Caso ocorra algum erro, como por exemplo, a obstrução do rosto\n",
    "            print(e)\n",
    "            pass\n",
    "\n",
    "        cv2.imshow('Camera', frame) # Não colocar acento no nome da imagem!\n",
    "\n",
    "cap.release()\n",
    "cv2.destroyAllWindows()"
   ]
  },
  {
   "cell_type": "code",
   "execution_count": null,
   "metadata": {},
   "outputs": [],
   "source": []
  }
 ],
 "metadata": {
  "kernelspec": {
   "display_name": ".venv",
   "language": "python",
   "name": "python3"
  },
  "language_info": {
   "codemirror_mode": {
    "name": "ipython",
    "version": 3
   },
   "file_extension": ".py",
   "mimetype": "text/x-python",
   "name": "python",
   "nbconvert_exporter": "python",
   "pygments_lexer": "ipython3",
   "version": "3.10.12"
  }
 },
 "nbformat": 4,
 "nbformat_minor": 2
}
